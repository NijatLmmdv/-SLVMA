{
  "cells": [
    {
      "cell_type": "markdown",
      "metadata": {
        "id": "view-in-github",
        "colab_type": "text"
      },
      "source": [
        "<a href=\"https://colab.research.google.com/github/NijatLmmdv/-SLVMA/blob/main/Weather.ipynb\" target=\"_parent\"><img src=\"https://colab.research.google.com/assets/colab-badge.svg\" alt=\"Open In Colab\"/></a>"
      ]
    },
    {
      "cell_type": "code",
      "source": [
        "import numpy as np\n",
        "import matplotlib.pyplot as plt\n",
        "plt.rcParams['figure.figsize'] = [10, 6]\n",
        "np.random.seed(42)"
      ],
      "metadata": {
        "id": "wR70JMZeuWpR"
      },
      "execution_count": 24,
      "outputs": []
    },
    {
      "cell_type": "code",
      "source": [
        "state_space = (\"sunny\", \"cloudy\", \"rainy\")"
      ],
      "metadata": {
        "id": "69HlC5pOuWr4"
      },
      "execution_count": 25,
      "outputs": []
    },
    {
      "cell_type": "code",
      "source": [
        "transition_matrix = np.array(((0.6, 0.3, 0.1),\n",
        "                              (0.3, 0.4, 0.3),\n",
        "                              (0.2, 0.3, 0.5)))"
      ],
      "metadata": {
        "id": "YqeDkmUWuWuE"
      },
      "execution_count": 26,
      "outputs": []
    },
    {
      "cell_type": "code",
      "source": [
        "n_steps = 20000\n",
        "states = [0]\n",
        "for i in range(n_steps):\n",
        "    states.append(np.random.choice((0, 1, 2), p=transition_matrix[states[-1]]))\n",
        "states = np.array(states)"
      ],
      "metadata": {
        "id": "7XPUrfRIuWwY"
      },
      "execution_count": 27,
      "outputs": []
    },
    {
      "cell_type": "code",
      "source": [
        "def despine(ax, spines=('top', 'left', 'right')):\n",
        "    for spine in spines:\n",
        "        ax.spines[spine].set_visible(False)\n",
        "\n",
        "fig, ax = plt.subplots()\n",
        "width = 1000\n",
        "offsets = range(1, n_steps, 5)\n",
        "for i, label in enumerate(state_space):\n",
        "    ax.plot(offsets, [np.sum(states[:offset] == i) / offset\n",
        "            for offset in offsets], label=label)\n",
        "ax.set_xlabel(\"number of steps\")\n",
        "ax.set_ylabel(\"likelihood\")\n",
        "ax.legend(frameon=False)\n",
        "despine(ax, ('top', 'right'))\n",
        "plt.show()"
      ],
      "metadata": {
        "id": "Bomd4F5muWyh",
        "outputId": "d79817bd-7edb-4826-cd9a-408d0c57abe0",
        "colab": {
          "base_uri": "https://localhost:8080/",
          "height": 388
        }
      },
      "execution_count": 28,
      "outputs": [
        {
          "output_type": "display_data",
          "data": {
            "image/png": "[encoded data removed]",
            "text/plain": [
              "<Figure size 720x432 with 1 Axes>"
            ]
          },
          "metadata": {
            "needs_background": "light"
          }
        }
      ]
    },
    {
      "cell_type": "code",
      "source": [
        ""
      ],
      "metadata": {
        "id": "UYEGPYTeuW0z"
      },
      "execution_count": 28,
      "outputs": []
    },
    {
      "cell_type": "code",
      "source": [
        ""
      ],
      "metadata": {
        "id": "cM-y919VuW3N"
      },
      "execution_count": 28,
      "outputs": []
    },
    {
      "cell_type": "code",
      "source": [
        ""
      ],
      "metadata": {
        "id": "xJg8LyELuW5Y"
      },
      "execution_count": 28,
      "outputs": []
    }
  ],
  "metadata": {
    "colab": {
      "collapsed_sections": [],
      "name": "Welcome To Colaboratory",
      "toc_visible": true,
      "provenance": [],
      "include_colab_link": true
    },
    "kernelspec": {
      "display_name": "Python 3",
      "name": "python3"
    }
  },
  "nbformat": 4,
  "nbformat_minor": 0
}