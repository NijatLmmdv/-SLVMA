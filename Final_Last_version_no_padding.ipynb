{
  "cells": [
    {
      "cell_type": "markdown",
      "metadata": {
        "id": "view-in-github",
        "colab_type": "text"
      },
      "source": [
        "<a href=\"https://colab.research.google.com/github/NijatLmmdv/-SLVMA/blob/main/Final_Last_version_no_padding.ipynb\" target=\"_parent\"><img src=\"https://colab.research.google.com/assets/colab-badge.svg\" alt=\"Open In Colab\"/></a>"
      ]
    },
    {
      "cell_type": "code",
      "execution_count": 5,
      "id": "11d4fac2",
      "metadata": {
        "id": "11d4fac2"
      },
      "outputs": [],
      "source": [
        "#main libraries\n",
        "import numpy as np\n",
        "from numpy.linalg import matrix_power\n"
      ]
    },
    {
      "cell_type": "code",
      "execution_count": 6,
      "id": "4305bb45",
      "metadata": {
        "colab": {
          "base_uri": "https://localhost:8080/"
        },
        "id": "4305bb45",
        "outputId": "b5669d27-7364-4b7a-acbd-b510b4e72605"
      },
      "outputs": [
        {
          "output_type": "stream",
          "name": "stdout",
          "text": [
            "[[0.35 0.23 0.42]\n",
            " [0.31 0.27 0.42]\n",
            " [0.25 0.17 0.58]]\n",
            " 0.4200000\n"
          ]
        }
      ],
      "source": [
        "# Markov Chain\n",
        "# from i state to j state in n steps\n",
        "\n",
        "A = np.array([\n",
        "    [.3, .4, .3],\n",
        "    [.5, .2, .3],\n",
        "    [.2, .1, .7]    \n",
        "])\n",
        "#212\n",
        "i = 0\n",
        "j = 2\n",
        "n = 2\n",
        "\n",
        "A = matrix_power(A, n)\n",
        "print(A)\n",
        "\n",
        "print(\"{: .7f}\".format(A[i][j]))"
      ]
    },
    {
      "cell_type": "code",
      "execution_count": 7,
      "id": "965e4aca",
      "metadata": {
        "colab": {
          "base_uri": "https://localhost:8080/"
        },
        "id": "965e4aca",
        "outputId": "b03858c9-b63a-4ac8-c770-50441b39ac83"
      },
      "outputs": [
        {
          "output_type": "stream",
          "name": "stdout",
          "text": [
            "[[0.29166667 0.20833333 0.5       ]\n",
            " [0.29166667 0.20833333 0.5       ]\n",
            " [0.29166667 0.20833333 0.5       ]] 41\n"
          ]
        }
      ],
      "source": [
        "# Markov Chain - Stationary Distrubition\n",
        "\n",
        "sd = np.array([\n",
        "    [.3, .4, .3],\n",
        "    [.5, .2, .3],\n",
        "    [.2, .1, .7]    \n",
        "])\n",
        "\n",
        "\n",
        "prev = np.zeros((len(sd), len(sd))) \n",
        "copy = sd\n",
        "c = 1\n",
        "\n",
        "while((prev != sd).all()):\n",
        "    prev = sd\n",
        "    sd = np.dot(sd, copy)#multiply\n",
        "    c+=1\n",
        "\n",
        "print(sd,c)"
      ]
    },
    {
      "cell_type": "code",
      "execution_count": 8,
      "id": "ff9896cb",
      "metadata": {
        "colab": {
          "base_uri": "https://localhost:8080/"
        },
        "id": "ff9896cb",
        "outputId": "a8174310-e891-4606-9d2d-13bac2e3424f"
      },
      "outputs": [
        {
          "output_type": "stream",
          "name": "stdout",
          "text": [
            "[1.  0.4 0.3 0.6 0.8 0.5 0.6 0.8 0.3 0.1 1.  0.1 0.5 0.6 0.7 0.5 0.9 0.8\n",
            " 0.3 0.2 1.  0.4 0.7 0.6 0.8 0.2 0.9 0.8 0.3 0.3 1.  0.1 0.5 0.5 0.7 0.5\n",
            " 0.9 0.8 0.3 0.2 0.  0.4 0.5 0.4 0.8 0.5 0.4 0.8 0.3 0.4 0.  0.1 0.3 0.6\n",
            " 0.7 0.3 0.9 0.8 0.3 0.2 0.  0.4 0.5 0.6 0.8 0.5 0.9 0.8 0.3 0.8 0.  0.1\n",
            " 0.5 0.6 0.8 0.7 0.1 0.8 0.3 0.2 0.  0.6 0.5 0.6 0.8 0.5 0.9 0.8 0.3 0.9\n",
            " 0.  0.1 0.5 0.6 0.7 0.5 0.9 0.8 0.3 0.2]\n"
          ]
        }
      ],
      "source": [
        "#Flatten CNN\n",
        "\n",
        "l = np.array([\n",
        "    [1, .4, .3, .6, .8, .5, .6, .8, .3, .1],\n",
        "    [1, .1, .5, .6, .7, .5, .9, .8, .3, .2],\n",
        "    [1, .4, .7, .6, .8, .2, .9, .8, .3, .3],\n",
        "    [1, .1, .5, .5, .7, .5, .9, .8, .3, .2],\n",
        "    [0, .4, .5, .4, .8, .5, .4, .8, .3, .4],\n",
        "    [0, .1, .3, .6, .7, .3, .9, .8, .3, .2],\n",
        "    [0, .4, .5, .6, .8, .5, .9, .8, .3, .8],\n",
        "    [0, .1, .5, .6, .8, .7, .1, .8, .3, .2],\n",
        "    [0, .6, .5, .6, .8, .5, .9, .8, .3, .9],\n",
        "    [0, .1, .5, .6, .7, .5, .9, .8, .3, .2]  \n",
        "])\n",
        "#matrix\n",
        "def m_flttn(mtrx):\n",
        "    r = np.array([])\n",
        "    for i in range(len(mtrx)):\n",
        "        r = np.insert(r, len(r), mtrx[i])\n",
        "    return r\n",
        "\n",
        "print(m_flttn(l))\n",
        "\n",
        "\n"
      ]
    },
    {
      "cell_type": "code",
      "execution_count": 9,
      "id": "0ca5baeb",
      "metadata": {
        "colab": {
          "base_uri": "https://localhost:8080/"
        },
        "id": "0ca5baeb",
        "outputId": "6faa1da3-dc09-4fb4-f45f-6d0b1a869999"
      },
      "outputs": [
        {
          "output_type": "stream",
          "name": "stdout",
          "text": [
            "[[0.1 0.1 0.3 0.2 0.2 0.2 0.3 0.1]\n",
            " [0.1 0.1 0.5 0.2 0.2 0.2 0.3 0.2]\n",
            " [0.  0.1 0.4 0.2 0.2 0.2 0.3 0.2]\n",
            " [0.  0.1 0.3 0.3 0.3 0.3 0.3 0.2]\n",
            " [0.  0.1 0.3 0.3 0.3 0.3 0.3 0.2]\n",
            " [0.  0.1 0.3 0.3 0.1 0.1 0.1 0.2]\n",
            " [0.  0.1 0.5 0.5 0.1 0.1 0.1 0.2]\n",
            " [0.  0.1 0.5 0.5 0.1 0.1 0.1 0.2]]\n"
          ]
        }
      ],
      "source": [
        "#Pooling\n",
        "\n",
        "def m_plng(l, s, k):\n",
        "    rows, cols = np.shape(l) #layerin olculeri\n",
        "\n",
        "    r = int((rows - k)/s + 1) \n",
        "    cl = int((cols - k)/s + 1) \n",
        "    \n",
        "    pooled_layer = np.zeros((r, cl))\n",
        "    \n",
        "    for i in range(r):\n",
        "        for j in range(cl):\n",
        "            # res = np.amax(layer[i:i+kernel, j:j+kernel])\n",
        "            r = np.amin(l[i:i+k, j:j+k])\n",
        "            # res = round(np.average(layer[i:i+kernel, j:j+kernel]), 2)\n",
        "            pooled_layer[i][j] = r\n",
        "\n",
        "    return pooled_layer\n",
        "\n",
        "print(m_plng(l, 1, 3))       \n",
        "        "
      ]
    },
    {
      "cell_type": "code",
      "execution_count": 9,
      "id": "84b08615",
      "metadata": {
        "id": "84b08615"
      },
      "outputs": [],
      "source": [
        ""
      ]
    },
    {
      "cell_type": "code",
      "execution_count": 10,
      "id": "f5637ed4",
      "metadata": {
        "colab": {
          "base_uri": "https://localhost:8080/"
        },
        "id": "f5637ed4",
        "outputId": "e22802bc-9dc5-411e-bfce-83865ea278f1"
      },
      "outputs": [
        {
          "output_type": "stream",
          "name": "stdout",
          "text": [
            "[[7.83 6.06 8.07 8.05 8.37 8.76 8.76 5.85]\n",
            " [7.56 5.83 8.08 7.73 8.58 9.27 9.21 5.97]\n",
            " [6.57 6.04 7.86 7.6  8.13 8.42 8.46 6.21]\n",
            " [4.08 4.91 7.14 7.55 8.15 8.57 8.46 6.09]\n",
            " [3.09 5.48 7.43 7.87 8.3  8.57 8.46 6.81]\n",
            " [2.58 5.27 7.77 8.41 8.28 8.36 8.01 6.57]\n",
            " [3.67 6.36 8.19 8.82 8.77 8.66 8.01 7.41]\n",
            " [3.16 5.91 8.07 8.65 8.62 8.66 8.01 6.69]]\n"
          ]
        }
      ],
      "source": [
        "#conv2D\n",
        "fl = np.array([\n",
        "    [.1,.8,.6],\n",
        "    [.5,.7,.5],\n",
        "    [.2,.2,.8]\n",
        "])\n",
        "\n",
        "\n",
        "def manual_conv2D(layer, stride, fl):\n",
        "    f_size = len(fl)\n",
        "    rows, cols = np.shape(layer) #layerin olculerini aliriq\n",
        "    \n",
        "    r = int((rows - f_size)/stride + 1) # yeni layerin row sayisi\n",
        "    cl = int((cols - f_size)/stride + 1) # yeni layerin column sayisi\n",
        "    \n",
        "    conv2d_layer = np.zeros((r, cl))\n",
        "    \n",
        "    for i in range(0, r, stride):\n",
        "        for j in range(0, cl, stride):\n",
        "            res = round(np.sum(np.dot(layer[i: i+f_size, j: j+f_size], fl)), 2)\n",
        "            conv2d_layer[i][j] = res\n",
        "    \n",
        "    return conv2d_layer\n",
        "\n",
        "\n",
        "print(manual_conv2D(l, 1, fl))\n",
        "\n",
        "\n",
        "\n",
        "\n",
        "\n"
      ]
    },
    {
      "cell_type": "code",
      "execution_count": 10,
      "id": "e7a7c804",
      "metadata": {
        "id": "e7a7c804"
      },
      "outputs": [],
      "source": [
        ""
      ]
    }
  ],
  "metadata": {
    "kernelspec": {
      "display_name": "Python 3",
      "language": "python",
      "name": "python3"
    },
    "language_info": {
      "codemirror_mode": {
        "name": "ipython",
        "version": 3
      },
      "file_extension": ".py",
      "mimetype": "text/x-python",
      "name": "python",
      "nbconvert_exporter": "python",
      "pygments_lexer": "ipython3",
      "version": "3.8.8"
    },
    "colab": {
      "name": "Final Last version - no padding.ipynb",
      "provenance": [],
      "toc_visible": true,
      "include_colab_link": true
    }
  },
  "nbformat": 4,
  "nbformat_minor": 5
}